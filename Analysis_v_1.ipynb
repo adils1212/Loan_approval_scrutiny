{
 "cells": [
  {
   "cell_type": "code",
   "execution_count": 1,
   "metadata": {},
   "outputs": [],
   "source": [
    "# pip install missingno"
   ]
  },
  {
   "cell_type": "markdown",
   "metadata": {},
   "source": [
    "# Importing Libraries"
   ]
  },
  {
   "cell_type": "code",
   "execution_count": 2,
   "metadata": {},
   "outputs": [],
   "source": [
    "import pandas as pd\n",
    "import matplotlib.pyplot as plt\n",
    "import seaborn as sns\n",
    "import missingno as miss\n",
    "import numpy as np\n",
    "import random\n",
    "from sklearn.linear_model import LogisticRegression\n",
    "from sklearn import preprocessing\n",
    "from sklearn.model_selection import train_test_split\n",
    "from sklearn.metrics import confusion_matrix as cm\n",
    "from sklearn.metrics import accuracy_score\n",
    "from sklearn.metrics import precision_recall_fscore_support\n",
    "from sklearn.model_selection import cross_val_score, GridSearchCV, train_test_split, KFold"
   ]
  },
  {
   "cell_type": "markdown",
   "metadata": {},
   "source": [
    "## Loading data into pandas "
   ]
  },
  {
   "cell_type": "code",
   "execution_count": 3,
   "metadata": {},
   "outputs": [
    {
     "name": "stdout",
     "output_type": "stream",
     "text": [
      "Total number of data-points 690\n"
     ]
    }
   ],
   "source": [
    "df=pd.read_csv('data.data', header=None)\n",
    "print ('Total number of data-points '+str(df.shape[0]))"
   ]
  },
  {
   "cell_type": "markdown",
   "metadata": {},
   "source": [
    "# Pre-processing data\n",
    "\n",
    "Adding an additional column to classify each data as Granted-credit ('1') or denied credit ('0')\n"
   ]
  },
  {
   "cell_type": "code",
   "execution_count": 4,
   "metadata": {},
   "outputs": [
    {
     "data": {
      "text/html": [
       "<div>\n",
       "<style scoped>\n",
       "    .dataframe tbody tr th:only-of-type {\n",
       "        vertical-align: middle;\n",
       "    }\n",
       "\n",
       "    .dataframe tbody tr th {\n",
       "        vertical-align: top;\n",
       "    }\n",
       "\n",
       "    .dataframe thead th {\n",
       "        text-align: right;\n",
       "    }\n",
       "</style>\n",
       "<table border=\"1\" class=\"dataframe\">\n",
       "  <thead>\n",
       "    <tr style=\"text-align: right;\">\n",
       "      <th></th>\n",
       "      <th>A1</th>\n",
       "      <th>A2</th>\n",
       "      <th>A3</th>\n",
       "      <th>A4</th>\n",
       "      <th>A5</th>\n",
       "      <th>A6</th>\n",
       "      <th>A7</th>\n",
       "      <th>A8</th>\n",
       "      <th>A9</th>\n",
       "      <th>A10</th>\n",
       "      <th>A11</th>\n",
       "      <th>A12</th>\n",
       "      <th>A13</th>\n",
       "      <th>A14</th>\n",
       "      <th>A15</th>\n",
       "      <th>Class</th>\n",
       "    </tr>\n",
       "  </thead>\n",
       "  <tbody>\n",
       "    <tr>\n",
       "      <th>0</th>\n",
       "      <td>b</td>\n",
       "      <td>30.83</td>\n",
       "      <td>0.000</td>\n",
       "      <td>u</td>\n",
       "      <td>g</td>\n",
       "      <td>w</td>\n",
       "      <td>v</td>\n",
       "      <td>1.25</td>\n",
       "      <td>t</td>\n",
       "      <td>t</td>\n",
       "      <td>1</td>\n",
       "      <td>f</td>\n",
       "      <td>g</td>\n",
       "      <td>00202</td>\n",
       "      <td>0</td>\n",
       "      <td>1</td>\n",
       "    </tr>\n",
       "    <tr>\n",
       "      <th>1</th>\n",
       "      <td>a</td>\n",
       "      <td>58.67</td>\n",
       "      <td>4.460</td>\n",
       "      <td>u</td>\n",
       "      <td>g</td>\n",
       "      <td>q</td>\n",
       "      <td>h</td>\n",
       "      <td>3.04</td>\n",
       "      <td>t</td>\n",
       "      <td>t</td>\n",
       "      <td>6</td>\n",
       "      <td>f</td>\n",
       "      <td>g</td>\n",
       "      <td>00043</td>\n",
       "      <td>560</td>\n",
       "      <td>1</td>\n",
       "    </tr>\n",
       "    <tr>\n",
       "      <th>2</th>\n",
       "      <td>a</td>\n",
       "      <td>24.50</td>\n",
       "      <td>0.500</td>\n",
       "      <td>u</td>\n",
       "      <td>g</td>\n",
       "      <td>q</td>\n",
       "      <td>h</td>\n",
       "      <td>1.50</td>\n",
       "      <td>t</td>\n",
       "      <td>f</td>\n",
       "      <td>0</td>\n",
       "      <td>f</td>\n",
       "      <td>g</td>\n",
       "      <td>00280</td>\n",
       "      <td>824</td>\n",
       "      <td>1</td>\n",
       "    </tr>\n",
       "    <tr>\n",
       "      <th>3</th>\n",
       "      <td>b</td>\n",
       "      <td>27.83</td>\n",
       "      <td>1.540</td>\n",
       "      <td>u</td>\n",
       "      <td>g</td>\n",
       "      <td>w</td>\n",
       "      <td>v</td>\n",
       "      <td>3.75</td>\n",
       "      <td>t</td>\n",
       "      <td>t</td>\n",
       "      <td>5</td>\n",
       "      <td>t</td>\n",
       "      <td>g</td>\n",
       "      <td>00100</td>\n",
       "      <td>3</td>\n",
       "      <td>1</td>\n",
       "    </tr>\n",
       "    <tr>\n",
       "      <th>4</th>\n",
       "      <td>b</td>\n",
       "      <td>20.17</td>\n",
       "      <td>5.625</td>\n",
       "      <td>u</td>\n",
       "      <td>g</td>\n",
       "      <td>w</td>\n",
       "      <td>v</td>\n",
       "      <td>1.71</td>\n",
       "      <td>t</td>\n",
       "      <td>f</td>\n",
       "      <td>0</td>\n",
       "      <td>f</td>\n",
       "      <td>s</td>\n",
       "      <td>00120</td>\n",
       "      <td>0</td>\n",
       "      <td>1</td>\n",
       "    </tr>\n",
       "  </tbody>\n",
       "</table>\n",
       "</div>"
      ],
      "text/plain": [
       "  A1     A2     A3 A4 A5 A6 A7    A8 A9 A10  A11 A12 A13    A14  A15  Class\n",
       "0  b  30.83  0.000  u  g  w  v  1.25  t   t    1   f   g  00202    0      1\n",
       "1  a  58.67  4.460  u  g  q  h  3.04  t   t    6   f   g  00043  560      1\n",
       "2  a  24.50  0.500  u  g  q  h  1.50  t   f    0   f   g  00280  824      1\n",
       "3  b  27.83  1.540  u  g  w  v  3.75  t   t    5   t   g  00100    3      1\n",
       "4  b  20.17  5.625  u  g  w  v  1.71  t   f    0   f   s  00120    0      1"
      ]
     },
     "execution_count": 4,
     "metadata": {},
     "output_type": "execute_result"
    }
   ],
   "source": [
    "le = preprocessing.LabelEncoder()\n",
    "lis=np.logical_not(le.fit_transform(df.iloc[:,15])).astype(int)\n",
    "df['Class']=pd.Series(lis)\n",
    "df=df.drop([15], axis=1)\n",
    "df.columns=['A1','A2','A3','A4','A5','A6','A7','A8','A9','A10','A11','A12','A13','A14','A15','Class']\n",
    "df.head(5) #showing first 5 datapoints"
   ]
  },
  {
   "cell_type": "code",
   "execution_count": 5,
   "metadata": {},
   "outputs": [],
   "source": [
    "def perc_show(ax,df):\n",
    "    for p in ax.patches:\n",
    "        height = p.get_height()\n",
    "        ax.text(p.get_x()+p.get_width()/2.,\n",
    "                height+0 ,\n",
    "                '{:1.1f}%'.format(height/len(df)*100),\n",
    "                ha=\"center\", fontsize=12) "
   ]
  },
  {
   "cell_type": "code",
   "execution_count": 6,
   "metadata": {},
   "outputs": [
    {
     "name": "stderr",
     "output_type": "stream",
     "text": [
      "posx and posy should be finite values\n",
      "posx and posy should be finite values\n"
     ]
    },
    {
     "data": {
      "image/png": "[encoded data removed]",
      "text/plain": [
       "<Figure size 1080x360 with 2 Axes>"
      ]
     },
     "metadata": {
      "needs_background": "light"
     },
     "output_type": "display_data"
    }
   ],
   "source": [
    "fig, axarr = plt.subplots(1, 2, figsize=(15,5))\n",
    "ax = sns.countplot(x=\"Class\", hue=\"A1\", data=df, ax=axarr[0])\n",
    "perc_show(ax,df);\n",
    "ax = sns.countplot(x=\"Class\", hue=\"A4\", data=df, ax=axarr[1])\n",
    "perc_show(ax,df);"
   ]
  },
  {
   "cell_type": "markdown",
   "metadata": {},
   "source": [
    "1. From above graphs we can say for categorical variables A1 and A4 we have two (2) and three(3) unique values (other than the missing values) which are distributed amongst Class '0' and '1' as shown above.\n",
    "2. It can be inferred category 'b' in feature A1 and category 'u' in feature A4 are most dominant.\n",
    "3. As attributes and values are changed to meaningless values we cannot be sure what these features and values are representing about the dataset."
   ]
  },
  {
   "cell_type": "code",
   "execution_count": 7,
   "metadata": {},
   "outputs": [
    {
     "data": {
      "text/plain": [
       "count       690\n",
       "unique      171\n",
       "top       00000\n",
       "freq        132\n",
       "Name: A14, dtype: object"
      ]
     },
     "execution_count": 7,
     "metadata": {},
     "output_type": "execute_result"
    }
   ],
   "source": [
    "df['A14'].describe()"
   ]
  },
  {
   "cell_type": "code",
   "execution_count": 8,
   "metadata": {},
   "outputs": [
    {
     "data": {
      "image/png": "[encoded data removed]",
      "text/plain": [
       "<Figure size 576x432 with 1 Axes>"
      ]
     },
     "metadata": {
      "needs_background": "light"
     },
     "output_type": "display_data"
    }
   ],
   "source": [
    "#below plot show distribution of True and False classes\n",
    "# It can be seen data is almost equally distributed amongst these classes.\n",
    "plt.figure(figsize=(8,6))\n",
    "ax = sns.countplot(x = 'Class',data = df, palette=\"Set3\")\n",
    "perc_show(ax,df)"
   ]
  },
  {
   "cell_type": "markdown",
   "metadata": {},
   "source": [
    "## Missing data-visualization\n",
    "1. Replacing '?' in dataset to NaN\n",
    "2. Annalyzing dataset using missingno library\n",
    "3. Visualizing reults and extracting usefull information"
   ]
  },
  {
   "cell_type": "code",
   "execution_count": 9,
   "metadata": {},
   "outputs": [
    {
     "data": {
      "text/plain": [
       "A1       1.739130\n",
       "A2       1.739130\n",
       "A3       0.000000\n",
       "A4       0.869565\n",
       "A5       0.869565\n",
       "A6       1.304348\n",
       "A7       1.304348\n",
       "A8       0.000000\n",
       "A9       0.000000\n",
       "A10      0.000000\n",
       "A11      0.000000\n",
       "A12      0.000000\n",
       "A13      0.000000\n",
       "A14      1.884058\n",
       "A15      0.000000\n",
       "Class    0.000000\n",
       "dtype: float64"
      ]
     },
     "execution_count": 9,
     "metadata": {},
     "output_type": "execute_result"
    }
   ],
   "source": [
    "# Before moving further let us do some research on missing values (if any)\n",
    "random.seed(10)\n",
    "df=df.replace('?', np.nan); # replacing all missing values with nan for visualizationa\n",
    "df.isnull().mean()*100\n"
   ]
  },
  {
   "cell_type": "markdown",
   "metadata": {},
   "source": [
    "Above stats shows percentage of data missing in each feature/column"
   ]
  },
  {
   "cell_type": "code",
   "execution_count": 10,
   "metadata": {},
   "outputs": [
    {
     "name": "stderr",
     "output_type": "stream",
     "text": [
      "C:\\Users\\17149\\Anaconda3\\lib\\site-packages\\missingno\\missingno.py:61: UserWarning: Plotting a sparkline on an existing axis is not currently supported. To remove this warning, set sparkline=False.\n",
      "  \"Plotting a sparkline on an existing axis is not currently supported. \"\n"
     ]
    },
    {
     "data": {
      "image/png": "[encoded data removed]",
      "text/plain": [
       "<Figure size 1800x1080 with 4 Axes>"
      ]
     },
     "metadata": {
      "needs_background": "light"
     },
     "output_type": "display_data"
    }
   ],
   "source": [
    "df=df.iloc[list(np.random.permutation(df.shape[0])),:] #just random mixing of original dataset\n",
    "fig, axarr = plt.subplots(1, 2, figsize=(25,15))\n",
    "miss.matrix(df, ax=axarr[0]);\n",
    "miss.bar(df, ax=axarr[1]);"
   ]
  },
  {
   "cell_type": "markdown",
   "metadata": {},
   "source": [
    "1. Garph on the left shows missing values as blank (white dashes). For example feature A2 (column 1) has 12 white dashes thus representing 12 missing values. Also, we can visualize most of the missing values in A4,A5,A6,A7 are highly corelated which means if one of these value/s are missing there is almost 100% certainity that values in other columns (A4,A5,A6,A7) are also missing.\n",
    "2. Graph on right shows missing values in each columns/feature."
   ]
  },
  {
   "cell_type": "code",
   "execution_count": 11,
   "metadata": {},
   "outputs": [
    {
     "data": {
      "image/png": "[encoded data removed]",
      "text/plain": [
       "<Figure size 1080x504 with 2 Axes>"
      ]
     },
     "metadata": {
      "needs_background": "light"
     },
     "output_type": "display_data"
    }
   ],
   "source": [
    "miss.heatmap(df,figsize=(15,7));"
   ]
  },
  {
   "cell_type": "markdown",
   "metadata": {},
   "source": [
    "Our initial observation holds true, we can see strong correlations between missing values of different features especially between (A4,A5,A6,A7 and A14).  "
   ]
  },
  {
   "cell_type": "code",
   "execution_count": 12,
   "metadata": {},
   "outputs": [
    {
     "data": {
      "text/plain": [
       "<matplotlib.axes._subplots.AxesSubplot at 0x289302079e8>"
      ]
     },
     "execution_count": 12,
     "metadata": {},
     "output_type": "execute_result"
    },
    {
     "data": {
      "image/png": "[encoded data removed]",
      "text/plain": [
       "<Figure size 1800x720 with 1 Axes>"
      ]
     },
     "metadata": {
      "needs_background": "light"
     },
     "output_type": "display_data"
    }
   ],
   "source": [
    "miss.dendrogram(df)"
   ]
  },
  {
   "cell_type": "markdown",
   "metadata": {},
   "source": [
    "The dendogram tries to find correleation between features and group them interms of similarity. This means two or more variables grouped/clustered at a small distances (or zero distance) are highly correleated. This might help us to predict a  missing value in one variable if the other variable/feature has a non-null value. From above we can observed cluster consisting of (A4,A5) and (A6,A7) are closely linked to each other."
   ]
  },
  {
   "cell_type": "markdown",
   "metadata": {},
   "source": [
    "Before proceeding to handle missing values. Let's get all data records with NaN for column A1"
   ]
  },
  {
   "cell_type": "code",
   "execution_count": 13,
   "metadata": {},
   "outputs": [
    {
     "data": {
      "text/plain": [
       "12"
      ]
     },
     "execution_count": 13,
     "metadata": {},
     "output_type": "execute_result"
    }
   ],
   "source": [
    "df_new=df.loc[df['A1'].isnull(),:] \n",
    "df_new.shape[0]\n",
    "# as it can be seen intotal 12 NaN values for A1 columns. This is exactly shown by above graphs"
   ]
  },
  {
   "cell_type": "code",
   "execution_count": 14,
   "metadata": {},
   "outputs": [
    {
     "data": {
      "text/plain": [
       "<matplotlib.axes._subplots.AxesSubplot at 0x28930652f28>"
      ]
     },
     "execution_count": 14,
     "metadata": {},
     "output_type": "execute_result"
    },
    {
     "data": {
      "image/png": "[encoded data removed]",
      "text/plain": [
       "<Figure size 432x288 with 1 Axes>"
      ]
     },
     "metadata": {
      "needs_background": "light"
     },
     "output_type": "display_data"
    }
   ],
   "source": [
    "sns.countplot(x='A1',data=df,hue='Class')\n",
    "# In below barplot we can see that the distribution of class 0 and 1 is consistent between category 'b' and category 'a'\n",
    "# of feature A1"
   ]
  },
  {
   "cell_type": "code",
   "execution_count": 15,
   "metadata": {},
   "outputs": [
    {
     "data": {
      "text/plain": [
       "12"
      ]
     },
     "execution_count": 15,
     "metadata": {},
     "output_type": "execute_result"
    }
   ],
   "source": [
    "df_new2=df.loc[df['A2'].isnull(),:]\n",
    "df_new2.shape[0]\n",
    "# As it can be seen intotal 12 NaN values for A2 columns. This is exactly shown by above graphs"
   ]
  },
  {
   "cell_type": "code",
   "execution_count": 16,
   "metadata": {},
   "outputs": [
    {
     "data": {
      "image/png": "[encoded data removed]",
      "text/plain": [
       "<Figure size 936x576 with 2 Axes>"
      ]
     },
     "metadata": {
      "needs_background": "light"
     },
     "output_type": "display_data"
    }
   ],
   "source": [
    "\n",
    "fig, axarr = plt.subplots(1, 2, figsize=(13,8))\n",
    "axarr[0].set_title('Percentage NaN classified as 0 or 1 for A1')\n",
    "ax = sns.countplot(x = 'Class',data = df_new,ax=axarr[0])\n",
    "perc_show(ax,df_new)\n",
    "axarr[1].set_title('Percentage NaN classified as 0 or 1 for A14')\n",
    "ax = sns.countplot(x = 'Class',data = df_new2,ax=axarr[1])\n",
    "perc_show(ax,df_new)"
   ]
  },
  {
   "cell_type": "markdown",
   "metadata": {},
   "source": [
    "In above graphs we can see there is a strong correlation between missing values in column A1,A14 and Class. There is a high probability if the value of A1 or A14 is missing the credit will be denied i.e Class '0'"
   ]
  },
  {
   "cell_type": "code",
   "execution_count": 17,
   "metadata": {},
   "outputs": [
    {
     "data": {
      "text/plain": [
       "Class\n",
       "0    2.349869\n",
       "1    0.977199\n",
       "Name: A1_null, dtype: float64"
      ]
     },
     "execution_count": 17,
     "metadata": {},
     "output_type": "execute_result"
    }
   ],
   "source": [
    "df_copy=df.copy()\n",
    "\n",
    "df_copy['A1_null']=np.where(df_copy['A1'].isnull(),1,0)\n",
    "df_copy.groupby(['Class'])['A1_null'].mean()*100"
   ]
  },
  {
   "cell_type": "markdown",
   "metadata": {},
   "source": [
    "Above data shows only 2% values for Class 0 and less than 1% for Class 1 is missing."
   ]
  },
  {
   "cell_type": "markdown",
   "metadata": {},
   "source": [
    "# Handling missing values\n",
    "1. We have two different data-types in given dataset i) Nominal ii) Continuous. Therefore, these two data-types will be dealt seperately.\n",
    "2. For continuous data-type features (A2 and A14 we will impute missing values with median value of that particular feature\n",
    "3. For Nominal data-type features (A1,A4,A5,A6,A7,A14) we can use clustering techniques to replace missing values in respective columns/feature\n",
    "4. Before Imputation we need to split data into train/test to avoid 'information leakage'.\n",
    "\n"
   ]
  },
  {
   "cell_type": "code",
   "execution_count": 18,
   "metadata": {},
   "outputs": [],
   "source": [
    "df['A2']=df['A2'].astype(float);\n",
    "df['A11']=df['A11'].astype(float);\n",
    "df['A14']=df['A14'].astype(float);\n",
    "df['A15']=df['A15'].astype(float);\n"
   ]
  },
  {
   "cell_type": "markdown",
   "metadata": {},
   "source": [
    "Replacing NaN values for categorical variables to the mode of that feature\n"
   ]
  },
  {
   "cell_type": "code",
   "execution_count": 19,
   "metadata": {},
   "outputs": [
    {
     "data": {
      "text/plain": [
       "A1        0\n",
       "A2       12\n",
       "A3        0\n",
       "A4        0\n",
       "A5        0\n",
       "A6        0\n",
       "A7        0\n",
       "A8        0\n",
       "A9        0\n",
       "A10       0\n",
       "A11       0\n",
       "A12       0\n",
       "A13       0\n",
       "A14      13\n",
       "A15       0\n",
       "Class     0\n",
       "dtype: int64"
      ]
     },
     "execution_count": 19,
     "metadata": {},
     "output_type": "execute_result"
    }
   ],
   "source": [
    "df['A1'].fillna(df['A1'].mode()[0], inplace=True)\n",
    "df['A4'].fillna(df['A4'].mode()[0], inplace=True)\n",
    "df['A5'].fillna(df['A5'].mode()[0], inplace=True)\n",
    "df['A6'].fillna(df['A6'].mode()[0], inplace=True)\n",
    "df['A7'].fillna(df['A7'].mode()[0], inplace=True)\n",
    "df.isnull().sum() # As we can see all NaN values in categorical variables are replaced with its Mode."
   ]
  },
  {
   "cell_type": "code",
   "execution_count": 20,
   "metadata": {},
   "outputs": [
    {
     "name": "stdout",
     "output_type": "stream",
     "text": [
      "552\n",
      "Training data-set %: 80.0\n",
      "Test data-set %: 20.0\n"
     ]
    }
   ],
   "source": [
    "# randomly splitting original data frame into df_train and df_test with 80/20 split ratio\n",
    "np.random.seed(4)\n",
    "dummy=list(np.random.permutation(df.shape[0]));\n",
    "split=int(np.floor(0.8*len(dummy)))\n",
    "print(split)\n",
    "df_train=df.iloc[dummy[0:split],:]\n",
    "df_test=df.iloc[dummy[split:],:]\n",
    "# X=\n",
    "# y=df.iloc[:,-1].values\n",
    "print('Training data-set %: '+ str((df_train.shape[0]*100)/df.shape[0]))\n",
    "print('Test data-set %: '+ str((df_test.shape[0]*100)/df.shape[0]))\n",
    "\n",
    "#splitting dataset into independent and dependednt variables, Class is a dependednt variable\n",
    "X_train=df_train.iloc[:,:-1].values\n",
    "y_train=df_train.iloc[:,-1].values\n",
    "X_test=df_test.iloc[:,:-1].values\n",
    "y_test=df_test.iloc[:,-1].values\n",
    "\n",
    "# Let's do imputation for continuous variables i.e A2 and A14\n",
    "\n",
    "from sklearn.impute import SimpleImputer\n",
    "imputer=SimpleImputer(strategy='median')\n",
    "X_train[:,[1,13]]=imputer.fit_transform(X_train[:,[1,13]])\n",
    "X_test[:,[1,13]]=imputer.transform(X_test[:,[1,13]])\n"
   ]
  },
  {
   "cell_type": "code",
   "execution_count": 21,
   "metadata": {},
   "outputs": [
    {
     "name": "stdout",
     "output_type": "stream",
     "text": [
      "There are 0 Null values in Test data-set for A2 and A14\n",
      "There are 0 Null values in Train data-set for A2 and A14\n"
     ]
    }
   ],
   "source": [
    "a=pd.DataFrame(X_test)\n",
    "print ('There are ' + str((a[1].isnull().sum()) + a[13].isnull().sum()) + ' Null values in Test data-set for A2 and A14')\n",
    "a2=pd.DataFrame(X_train)\n",
    "print ('There are ' + str(a2[1].isnull().sum() + a2[13].isnull().sum()) + ' Null values in Train data-set for A2 and A14')\n",
    "       "
   ]
  },
  {
   "cell_type": "code",
   "execution_count": 22,
   "metadata": {},
   "outputs": [],
   "source": [
    "from sklearn.compose import ColumnTransformer\n",
    "from sklearn.preprocessing import OneHotEncoder\n",
    "ct= ColumnTransformer(transformers=[('encoder', OneHotEncoder(drop='first', sparse=False), [0,3,4,5,6,8,9,11,12])],remainder= 'passthrough')\n",
    "X_train_transformed=ct.fit_transform (X_train)\n",
    "X_test_transformed=ct.transform(X_test)\n"
   ]
  },
  {
   "cell_type": "code",
   "execution_count": 23,
   "metadata": {},
   "outputs": [
    {
     "data": {
      "text/plain": [
       "(552,)"
      ]
     },
     "execution_count": 23,
     "metadata": {},
     "output_type": "execute_result"
    }
   ],
   "source": [
    "y_train.shape"
   ]
  },
  {
   "cell_type": "code",
   "execution_count": 24,
   "metadata": {},
   "outputs": [
    {
     "data": {
      "text/plain": [
       "(552, 15)"
      ]
     },
     "execution_count": 24,
     "metadata": {},
     "output_type": "execute_result"
    }
   ],
   "source": [
    "X_train.shape"
   ]
  },
  {
   "cell_type": "code",
   "execution_count": 25,
   "metadata": {},
   "outputs": [],
   "source": [
    "from sklearn.preprocessing import StandardScaler\n",
    "sc = StandardScaler()\n",
    "X_train_transformed = sc.fit_transform(X_train_transformed)\n",
    "X_test_transformed = sc.transform(X_test_transformed)\n"
   ]
  },
  {
   "cell_type": "code",
   "execution_count": 26,
   "metadata": {},
   "outputs": [
    {
     "data": {
      "text/plain": [
       "LogisticRegression(random_state=0)"
      ]
     },
     "execution_count": 26,
     "metadata": {},
     "output_type": "execute_result"
    }
   ],
   "source": [
    "Log_reg=LogisticRegression(random_state = 0)\n",
    "Log_reg.fit(X_train_transformed, y_train)"
   ]
  },
  {
   "cell_type": "code",
   "execution_count": 27,
   "metadata": {},
   "outputs": [],
   "source": [
    "y_pred = Log_reg.predict(X_test_transformed)\n",
    "# print(np.concatenate((y_pred.reshape(len(y_pred),1), y_test.reshape(len(y_test),1)),1))"
   ]
  },
  {
   "cell_type": "code",
   "execution_count": 57,
   "metadata": {},
   "outputs": [],
   "source": [
    "def plot_performance (y_pred):\n",
    "    cm_matrix = cm(y_test, y_pred,labels=[0,1])\n",
    "    plt.figure(figsize=(6,4))\n",
    "    # ax= plt.subplot()\n",
    "    ax=sns.heatmap(cm_matrix, annot=True); \n",
    "    ax.set_xlabel('Predicted labels');ax.set_ylabel('True labels'); \n",
    "    ax.set_title('Confusion Matrix'); \n",
    "    ax.xaxis.set_ticklabels(['Class 0', 'Class 1']); ax.yaxis.set_ticklabels(['Class 0', 'Class 1']);\n",
    "    tp,fn,fp,tn=cm_matrix.ravel()\n",
    "    # consedring Class 0 as positive class i.e our goal is to identify fraud cases (Case 0).We will find out precision and recall\n",
    "    print(\"The accuracy score for Logistic regression is: \"+str(100*accuracy_score(y_test, y_pred)))\n",
    "    print(\"The Precision for Logistic regression is: \"+str(100*(tp/(tp+fp))))\n",
    "    print(\"The Recall score for Logistic regression is: \"+str(100*(tp/(tp+fn))))\n",
    "# THe above figures for accuracy, precision and recall are our base-case before doing Grid search for best parameters"
   ]
  },
  {
   "cell_type": "code",
   "execution_count": 58,
   "metadata": {},
   "outputs": [
    {
     "name": "stdout",
     "output_type": "stream",
     "text": [
      "The accuracy score for Logistic regression is: 84.05797101449275\n",
      "The Precision for Logistic regression is: 83.11688311688312\n",
      "The Recall score for Logistic regression is: 87.67123287671232\n"
     ]
    },
    {
     "data": {
      "image/png": "[encoded data removed]",
      "text/plain": [
       "<Figure size 432x288 with 2 Axes>"
      ]
     },
     "metadata": {
      "needs_background": "light"
     },
     "output_type": "display_data"
    }
   ],
   "source": [
    "plot_performance(y_pred)"
   ]
  },
  {
   "cell_type": "code",
   "execution_count": 97,
   "metadata": {},
   "outputs": [
    {
     "data": {
      "text/plain": [
       "Index(['A1', 'A2', 'A3', 'A4', 'A5', 'A6', 'A7', 'A8', 'A9', 'A10', 'A11',\n",
       "       'A12', 'A13', 'A14', 'A15', 'Class'],\n",
       "      dtype='object')"
      ]
     },
     "execution_count": 97,
     "metadata": {},
     "output_type": "execute_result"
    }
   ],
   "source": [
    "df.columns"
   ]
  },
  {
   "cell_type": "code",
   "execution_count": 98,
   "metadata": {},
   "outputs": [
    {
     "name": "stdout",
     "output_type": "stream",
     "text": [
      "A1\n",
      "A2\n",
      "A3\n",
      "A4\n",
      "A5\n",
      "A6\n",
      "A7\n",
      "A8\n",
      "A9\n",
      "A10\n",
      "A11\n",
      "A12\n",
      "A13\n",
      "A14\n",
      "A15\n",
      "Class\n"
     ]
    }
   ],
   "source": [
    "for a in df.columns:\n",
    "    print(a)"
   ]
  },
  {
   "cell_type": "code",
   "execution_count": 50,
   "metadata": {},
   "outputs": [
    {
     "data": {
      "text/plain": [
       "GridSearchCV(cv=4, estimator=LogisticRegression(random_state=0),\n",
       "             param_grid={'class_weight': ['balanced', None],\n",
       "                         'penalty': ['l2', 'l1'], 'solver': ['liblinear']},\n",
       "             scoring='accuracy')"
      ]
     },
     "execution_count": 50,
     "metadata": {},
     "output_type": "execute_result"
    }
   ],
   "source": [
    "param={'class_weight':['balanced',None],'penalty':['l2','l1'],'solver':['liblinear']}\n",
    "\n",
    "grid_log_regression=GridSearchCV(Log_reg,param_grid=param,scoring='accuracy',cv=4)\n",
    "grid_log_regression.fit(X_train_transformed,y_train)"
   ]
  },
  {
   "cell_type": "code",
   "execution_count": 67,
   "metadata": {},
   "outputs": [
    {
     "name": "stdout",
     "output_type": "stream",
     "text": [
      "The best score for accuracy using Grid search for training cross-validation set is 87.31884057971014\n",
      "The best parameters for accuracy are{'class_weight': 'balanced', 'penalty': 'l2', 'solver': 'liblinear'}\n",
      "The accuracy score for Logistic regression is: 84.78260869565217\n",
      "The Precision for Logistic regression is: 85.13513513513513\n",
      "The Recall score for Logistic regression is: 86.3013698630137\n"
     ]
    },
    {
     "data": {
      "image/png": "[encoded data removed]",
      "text/plain": [
       "<Figure size 432x288 with 2 Axes>"
      ]
     },
     "metadata": {
      "needs_background": "light"
     },
     "output_type": "display_data"
    }
   ],
   "source": [
    "print('The best score for accuracy using Grid search for training cross-validation set is '+ str(grid_log_regression.best_score_*100))\n",
    "print('The best parameters for accuracy are'+ str(grid_log_regression.best_params_))\n",
    "y_pred2=grid_log_regression.predict(X_test_transformed) #using best model obtained from grid search to predict test data\n",
    "plot_performance(y_pred2)"
   ]
  },
  {
   "cell_type": "markdown",
   "metadata": {},
   "source": [
    "It can be inferred change of class weights from None to balanced and solver to liblinear from default solver lbfgs has improved both accuracy and precision. However, a slight reduction in recall score is observed"
   ]
  },
  {
   "cell_type": "code",
   "execution_count": 68,
   "metadata": {},
   "outputs": [
    {
     "name": "stderr",
     "output_type": "stream",
     "text": [
      "[NbConvertApp] Converting notebook Analysis_v_1.ipynb to html\n",
      "[NbConvertApp] Writing 503102 bytes to Analysis_v_1.html\n"
     ]
    }
   ],
   "source": [
    "!jupyter nbconvert Analysis_v_1.ipynb --to html"
   ]
  },
  {
   "cell_type": "code",
   "execution_count": 69,
   "metadata": {},
   "outputs": [],
   "source": [
    "import datetime"
   ]
  },
  {
   "cell_type": "code",
   "execution_count": 70,
   "metadata": {},
   "outputs": [],
   "source": [
    "today=datetime.datetime.today()"
   ]
  },
  {
   "cell_type": "code",
   "execution_count": 96,
   "metadata": {},
   "outputs": [
    {
     "data": {
      "text/plain": [
       "0     2\n",
       "1     2\n",
       "2     2\n",
       "3     2\n",
       "4     1\n",
       "5     1\n",
       "6     1\n",
       "7     1\n",
       "8     1\n",
       "9     1\n",
       "10    1\n",
       "Name: date, dtype: int64"
      ]
     },
     "execution_count": 96,
     "metadata": {},
     "output_type": "execute_result"
    }
   ],
   "source": [
    "aa=pd.DataFrame([today-datetime.timedelta(x) for x in range(0,11)])\n",
    "aa.columns=['date']\n",
    "aa['date'].dt.month\n"
   ]
  }
 ],
 "metadata": {
  "kernelspec": {
   "display_name": "Python 3",
   "language": "python",
   "name": "python3"
  },
  "language_info": {
   "codemirror_mode": {
    "name": "ipython",
    "version": 3
   },
   "file_extension": ".py",
   "mimetype": "text/x-python",
   "name": "python",
   "nbconvert_exporter": "python",
   "pygments_lexer": "ipython3",
   "version": "3.7.3"
  }
 },
 "nbformat": 4,
 "nbformat_minor": 4
}
